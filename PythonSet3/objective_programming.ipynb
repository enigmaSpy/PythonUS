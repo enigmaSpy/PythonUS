{
 "cells": [
  {
   "cell_type": "markdown",
   "metadata": {
    "collapsed": true,
    "pycharm": {
     "name": "#%% md\n"
    }
   },
   "source": [
    "# Programowanie obiektowe\n",
    "\n",
    "W paradygmacie programowania obiektowego, klasy stanowią najważniejszy budulec programów. Niemniej jednak w języku Python istnieje wiele typów i technik, które pozwalają ograniczyć ich użycie. W językach programowania takich jak Java czy C#, klasy używane są zarówno jako kontenery do danych jak i typowe obiekty, które są wyspecjalizowane do konkretnych zadań. W języku Python jako kontenerów można użyć typu `namedtuple` lub `dataclass`. Nową techniką unikalną dla języka Python, która nie występuje w innych językach programowania jest tzw. _mixin_, czyli wstrzykiwanie pojedynczych funkcjonalności i użycie dziedziczenia jako kompozycji. Przykładem może być tutaj logowanie błędów. Jest to dość oczywista funkcjonalność jednak może być realizowana na wiele sposób np. logowanie na konsole, do pliku, usługi ElasticSearch czy S3 (w postaci plików).\n",
    "\n",
    "## Definiowanie klas\n",
    "\n",
    "Do definicji klasy należy użyć słowa kluczowego `class`, a następnie przekazać jej identyfikator typu. Opcjonalne dziedziczenie przekazuje się za pomocą nawiasu, zaraz za identyfikatorem. Poniżej znajduje się przykładowa deklaracja klasy."
   ]
  },
  {
   "cell_type": "code",
   "execution_count": 2,
   "outputs": [
    {
     "data": {
      "text/plain": "True"
     },
     "execution_count": 2,
     "metadata": {},
     "output_type": "execute_result"
    }
   ],
   "source": [
    "class Book:\n",
    "    isbn_field: str = 'isbn'\n",
    "\n",
    "    def __init__(self, isbn: str):\n",
    "        self.isbn = isbn\n",
    "\n",
    "    def validate(self) -> bool:\n",
    "        return len(self.isbn) > 0\n",
    "\n",
    "book = Book('2211-1212')\n",
    "book.validate()"
   ],
   "metadata": {
    "collapsed": false,
    "pycharm": {
     "name": "#%%\n"
    }
   }
  },
  {
   "cell_type": "markdown",
   "source": [
    "Dość istotny jest tutaj brak modyfikatorów dostępu znanych z innych języków programowania. Domyślnie w języku Python wszystko jest dostępne jako publiczne. Jedynym ograniczeniem jest stosowanie podkreślenia przed nazwą funkcji lub zmiennej, mający symulować pola prywatne. Niemniej jednak jest to bardziej notacja niż rzeczywiste ograniczenia na poziomie kompilacji. Pole `isbn_field` jest statyczne i odwołać się do niego można bez inicjalizacji klasy (`Book.isbn_field`). Konstruktor `__init__` tworzy zmienne dostępne w trakcie działania programu i użycia klasy. Nowością w stosunku do innych języków programowania jest słowo `self` odwołujące się do bieżącej instancji klasy. Funkcja `validate` może być jedynie wywołana po utworzeniu instancji klasy. W tworzeniu instancji klasy nie stosuje się słowa kluczowego `new`.\n",
    "\n",
    "## Dziedziczenie\n",
    "\n",
    "W języku Python dziedziczenie jest wielokrotne tzn. klasa może dziedziczyć po wielu klasach na raz. Dodatkowo priorytet  dziedziczenia jest od prawej do lewej, co ma szczególne znaczenie w momencie, gdy więcej niż jedna klasa zawiera tą samą nazwę funkcji. Kolejny przykład przedstawia taki właśnie przypadek."
   ],
   "metadata": {
    "collapsed": false,
    "pycharm": {
     "name": "#%% md\n"
    }
   }
  },
  {
   "cell_type": "code",
   "execution_count": 1,
   "outputs": [
    {
     "name": "stdout",
     "output_type": "stream",
     "text": [
      "Class A\n"
     ]
    }
   ],
   "source": [
    "class A:\n",
    "    def test(self):\n",
    "        print('Class A')\n",
    "\n",
    "class B:\n",
    "    def test(self):\n",
    "        print('Class B')\n",
    "\n",
    "class C (A, B):\n",
    "    def print(self):\n",
    "        self.test()\n",
    "\n",
    "\n",
    "c = C()\n",
    "c.print()"
   ],
   "metadata": {
    "collapsed": false,
    "pycharm": {
     "name": "#%%\n"
    }
   }
  },
  {
   "cell_type": "markdown",
   "source": [
    "W przypadku, gdyby na liście dziedziczenia, klasa `B` była przed `A`, wtedy funkcja klasy `B` została by użyta przy wywołaniu. Technika ta ma za zadanie rozwiązanie problemu diamentu (_The diamond problem_ w C++), który polega na tym, że kompilator nie jest w stanie określić, której funkcji klasy pochodnej ma użyć w trakcie wywołania. Dzieje się tak, gdy obie funkcje implementują abstrakcyjną klasę, a pewna klasa szczegółowa dziedziczy z obu z nich. Wywołanie konstruktora klasy bazowej następuje w trakcie wywołania funkcji `super().__init__()` lub poprzez precyzyjniejsze wywołanie `BaseClass.__init__()`, gdzie `BaseClass` jest typem bazowym."
   ],
   "metadata": {
    "collapsed": false
   }
  },
  {
   "cell_type": "code",
   "execution_count": 5,
   "outputs": [
    {
     "name": "stdout",
     "output_type": "stream",
     "text": [
      "Class C\n",
      "Calling super\n",
      "Class A\n",
      "Calling directly A.__init__\n",
      "Class A\n",
      "Calling directly B.__init__\n",
      "Class B\n"
     ]
    }
   ],
   "source": [
    "class A:\n",
    "    def __init__(self):\n",
    "        print('Class A')\n",
    "\n",
    "class B:\n",
    "    def __init__(self):\n",
    "        print('Class B')\n",
    "\n",
    "class C (A, B):\n",
    "    def __init__(self):\n",
    "        print('Class C')\n",
    "        print('Calling super')\n",
    "        super().__init__()\n",
    "        print('Calling directly A.__init__')\n",
    "        A.__init__(self)\n",
    "        print('Calling directly B.__init__')\n",
    "        B.__init__(self)\n",
    "\n",
    "c = C()"
   ],
   "metadata": {
    "collapsed": false,
    "pycharm": {
     "name": "#%%\n"
    }
   }
  },
  {
   "cell_type": "markdown",
   "source": [
    "Powyższy przykład prezentował sposób wywołania konstruktorów bazowych, jednak tą samą technikę można wykorzystać przy wywoływaniu funkcji.\n",
    "\n",
    "## Anotacja `property`\n",
    "\n",
    "Z definicji klasa zawiera zmienne i funkcje, które określają jej cechy. Jak dotąd przedstawiony był sposób tworzenia zmiennych w konstruktorze i definiowania funkcji. Zmienne wchodzące w skład klasy można definiować również jako właściwości. Dostęp do nich wygląda podobnie jak dostęp do pól."
   ],
   "metadata": {
    "collapsed": false,
    "pycharm": {
     "name": "#%% md\n"
    }
   }
  },
  {
   "cell_type": "code",
   "execution_count": null,
   "outputs": [],
   "source": [
    "class AuthorBook:\n",
    "    def __init__(self, author: str, title: str):\n",
    "        self._author = author\n",
    "        self._title = title\n",
    "\n",
    "    @property\n",
    "    def title(self):\n",
    "        return self._title.title()\n",
    "\n",
    "    @title.setter\n",
    "    def title(self, title: str):\n",
    "        self._title = title\n",
    "        # dodatkowa logika może zostać przekazana tutaj\n",
    "\n",
    "book = AuthorBook('Andrzej Sapkowski', 'Wiedźmin')\n",
    "book.title"
   ],
   "metadata": {
    "collapsed": false,
    "pycharm": {
     "name": "#%%\n"
    }
   }
  },
  {
   "cell_type": "markdown",
   "source": [
    "Stosowanie właściwości ma na celu umożliwienie programiście dodania kodu zawierającego logikę związaną z obsługą zmiany pola (np. przeliczenie powiązanych pól). Bardziej zaawansowanym przykładem stosowania pól jest użycie funkcji specjalnych `__get__` i `__set__`, które umożliwiają tworzenie własnych właściwości bez konieczności stosowania powyższej nomenklatury (kosztem czytelności i prostoty kodu).\n",
    "\n",
    "## Anotacje `staticmethod` i `classmethod`\n",
    "\n",
    "Funkcje statyczne są dość powszechnie stosowane w językach programowania obiektowego. Są to głównie funkcje, niezwiązane z konkretną instancją klasy, ale pod względem funkcjonalnym musi być z nią związana. W języku Python, aby funkcja była statyczna należy dodać anotację `staticmethod`. W argumentach nie może zawierać wskazania `self`, gdyż nie jest w żaden sposób związana z konkretną instancją klasy."
   ],
   "metadata": {
    "collapsed": false
   }
  },
  {
   "cell_type": "code",
   "execution_count": null,
   "outputs": [],
   "source": [
    "class A:\n",
    "    @staticmethod\n",
    "    def static_test():\n",
    "        pass\n",
    "\n",
    "A.static_test()"
   ],
   "metadata": {
    "collapsed": false,
    "pycharm": {
     "name": "#%%\n"
    }
   }
  },
  {
   "cell_type": "markdown",
   "source": [
    "Druga anotacja ma zastosowanie do inicjalizacji klasy w sposób niestandardowy. Przykładem może byc manualna serializacja i deserializacja  np. ze słownika."
   ],
   "metadata": {
    "collapsed": false,
    "pycharm": {
     "name": "#%% md\n"
    }
   }
  },
  {
   "cell_type": "code",
   "execution_count": 21,
   "outputs": [],
   "source": [
    "from os import listdir\n",
    "from os.path import join\n",
    "\n",
    "\n",
    "default_data_dir = './data'\n",
    "\n",
    "class PathInput:\n",
    "    def __init__(self, path):\n",
    "        self.fullpath = path\n",
    "\n",
    "    @classmethod\n",
    "    def generate_inputs(cls, data_dir):\n",
    "        data_dir = data_dir or default_data_dir\n",
    "\n",
    "        for name in listdir(data_dir):\n",
    "             yield cls(join(data_dir, name))\n",
    "\n",
    "for path_input in PathInput.generate_inputs('./'):\n",
    "    pass"
   ],
   "metadata": {
    "collapsed": false,
    "pycharm": {
     "name": "#%%\n"
    }
   }
  },
  {
   "cell_type": "markdown",
   "source": [
    "Funkcja `generate_inputs` nie zawiera podobnie jak funkcja statyczna zmiennej `self` wskazującej wartości zmiennych konkretnej instancji klasy. Podstawą różnicą jest argument `cls`, który pozwala tworzyć nową instancję klasy i ulega dziedziczeniu (w nowym typie po dziedziczeniu będzie wskazywał na nowy typ).\n",
    "\n",
    "## Definiowanie klas abstrakcyjnych\n",
    "\n",
    "Język Python nie zawiera interfejsów, a jedynie typy abstrakcyjne. Poniżej znajduje się przykład tworzenia klasy abstrakcyjnej."
   ],
   "metadata": {
    "collapsed": false,
    "pycharm": {
     "name": "#%% md\n"
    }
   }
  },
  {
   "cell_type": "code",
   "execution_count": null,
   "outputs": [],
   "source": [
    "import abc\n",
    "\n",
    "class Shape(metaclass=abc.ABCMeta):\n",
    "    @abc.abstractmethod\n",
    "    def area(self):\n",
    "        pass\n",
    "\n",
    "class Rectangle(Shape):\n",
    "   def __init__(self, x,y):\n",
    "      self.x=x\n",
    "      self.y=y\n",
    "   def area(self):\n",
    "      return self.x*self.y"
   ],
   "metadata": {
    "collapsed": false,
    "pycharm": {
     "name": "#%%\n"
    }
   }
  },
  {
   "cell_type": "markdown",
   "source": [
    "W momencie, gdy klasa dziedziczy po typie abstrakcyjnym, lecz nie implementuje jednej z abstrakcyjnych funkcji, środowisko uruchomieniowe wywoła wyjątek `TypeError`.\n",
    "\n",
    "## Mixin\n",
    "\n",
    "Dziedziczenie wielokrotne w języku Python umożliwia tworzenie bardzo wyspecjalizowanych klas, które można wstrzykiwać w hierarchię dziedziczenia, co często nazywane jest kompozycją funkcji. Należy również pamiętać, że nie jest to technika wspierana w samym języku Python, a sposób projektowania klas."
   ],
   "metadata": {
    "collapsed": false,
    "pycharm": {
     "name": "#%% md\n"
    }
   }
  },
  {
   "cell_type": "code",
   "execution_count": null,
   "outputs": [],
   "source": [
    "class SerializerMixin:\n",
    "    def Write(self, dict):\n",
    "        pass\n",
    "\n",
    "class SerializableRectangle(SerializerMixin, Rectangle):\n",
    "    pass"
   ],
   "metadata": {
    "collapsed": false,
    "pycharm": {
     "name": "#%%\n"
    }
   }
  },
  {
   "cell_type": "markdown",
   "source": [
    "Stosowanie powyższej techniki pozwala znacząco uprościć kod i jest zgodna z zasadą _DRY_ (Don't Repeat Yourself).\n",
    "\n",
    "## Kontenery na dane\n",
    "\n",
    "Anotacja `dataclass` umożliwia tworzenie prostych klas, których głównym zadaniem jest przechowywanie danych. Implementuje ona podstawowe operacje na danych jak porównywanie czy wyświetlanie informacji (implementacja funkcji `__repr__`)."
   ],
   "metadata": {
    "collapsed": false,
    "pycharm": {
     "name": "#%% md\n"
    }
   }
  },
  {
   "cell_type": "code",
   "execution_count": 14,
   "outputs": [
    {
     "name": "stdout",
     "output_type": "stream",
     "text": [
      "Lukasz\n",
      "{'name': 'Lukasz', 'surname': 'Strak', 'band': []}\n"
     ]
    }
   ],
   "source": [
    "from dataclasses import dataclass, field, asdict\n",
    "from typing import List\n",
    "\n",
    "@dataclass\n",
    "class Employee:\n",
    "    name: str\n",
    "    surname: str = field(default='Not assigned')\n",
    "    band: List[int] = field(default_factory=list) # wartość inicjalna []\n",
    "\n",
    "\n",
    "emp = Employee(name='Lukasz', surname='Strak')\n",
    "print(emp.name)\n",
    "print(asdict(emp))"
   ],
   "metadata": {
    "collapsed": false,
    "pycharm": {
     "name": "#%%\n"
    }
   }
  },
  {
   "cell_type": "markdown",
   "source": [
    "Użycie modułu `dataclass` pozwala zaoszczędzić wiele czasu na ręcznym tworzeniu klas.\n",
    "\n",
    "## Enums\n",
    "\n",
    "Enumeracje w języku Python są realizowane jako klasa dziedzicząca po `Enum`, a same wyliczenia przechowywane są w statycznych polach, tak jak pokazano w poniższym przykładzie."
   ],
   "metadata": {
    "collapsed": false,
    "pycharm": {
     "name": "#%% md\n"
    }
   }
  },
  {
   "cell_type": "code",
   "execution_count": 16,
   "outputs": [
    {
     "name": "stdout",
     "output_type": "stream",
     "text": [
      "RED\n",
      "True\n"
     ]
    }
   ],
   "source": [
    "from enum import Enum\n",
    "\n",
    "class Color(Enum):\n",
    "    RED = 0\n",
    "    GREEN = 1\n",
    "    Yellow = 2\n",
    "\n",
    "\n",
    "def print_color(color: Color):\n",
    "    print(color.name)\n",
    "    print(color == Color.RED)\n",
    "\n",
    "\n",
    "print_color(Color.RED)"
   ],
   "metadata": {
    "collapsed": false,
    "pycharm": {
     "name": "#%%\n"
    }
   }
  },
  {
   "cell_type": "markdown",
   "source": [
    "## Informacje o obiekcie w czasie wykonania\n",
    "\n",
    "Biblioteka standardowa zawiera wiele przydatnych funkcji, które umożliwiają uzyskanie informacji o instancji obiektu w czasie dziania programu."
   ],
   "metadata": {
    "collapsed": false,
    "pycharm": {
     "name": "#%% md\n"
    }
   }
  },
  {
   "cell_type": "code",
   "execution_count": 20,
   "outputs": [
    {
     "name": "stdout",
     "output_type": "stream",
     "text": [
      "<class 'type'>\n",
      "['__class__', '__delattr__', '__dict__', '__dir__', '__doc__', '__eq__', '__format__', '__ge__', '__getattribute__', '__gt__', '__hash__', '__init__', '__init_subclass__', '__le__', '__lt__', '__module__', '__ne__', '__new__', '__reduce__', '__reduce_ex__', '__repr__', '__setattr__', '__sizeof__', '__str__', '__subclasshook__', '__weakref__', 'test']\n",
      "[<class '__main__.B'>, <class '__main__.A'>, <class 'object'>]\n",
      "True\n"
     ]
    }
   ],
   "source": [
    "class A:\n",
    "    pass\n",
    "\n",
    "class B(A):\n",
    "    def test(self):\n",
    "        pass\n",
    "\n",
    "# wyświetla typ danych\n",
    "print(type(B))\n",
    "\n",
    "# dir zwraca wszystkie składowe klasy\n",
    "print(dir(B()))\n",
    "\n",
    "# mro pozwala wyświetlić całą hierarchię dziedziczenia\n",
    "print(type(B).mro(B))\n",
    "\n",
    "# hasattr to funkcja wbudowana w język Python sprawdzająca czy dany typ zawiera funkcję lub pole dane łańcuchem znaków\n",
    "print(hasattr(B,'test'))"
   ],
   "metadata": {
    "collapsed": false,
    "pycharm": {
     "name": "#%%\n"
    }
   }
  },
  {
   "cell_type": "markdown",
   "source": [
    "## Zadania do wykonania\n",
    "\n",
    "### Zadanie 1. Zaprojektuj klasę dla $kd$-drzewa.\n",
    "\n",
    "### Zadanie 2. Zaimplementuj wzorzec projektowy łańcuch odpowiedzialności na przykładzie obsługi żądania _http_ (symulacja), w którym przed faktycznym kodem obsługi błędu ma zostać sprawdzone czy użytkownik może wysłać danego typu żądanie, czy żądanie nie dotyczy pliku, czy liczba żądań na minutę nie jest przekroczona, czy liczba żądań na minutę nie jest przekroczona dla zalogowanego użytkownika, czy przesłany formularz nie jest próbą `sql incjection`.\n",
    "\n",
    "### Zadanie 3. Za pomocą dowolnego wzorca projektowego zaimplementuj mechanizm sprawdzający poprawność wyrażenia postaci:\n",
    "* a + b = c (poprawne),\n",
    "* (a + b = c (niepoprawne),\n",
    "* a + = c (niepoprawne)."
   ],
   "metadata": {
    "collapsed": false,
    "pycharm": {
     "name": "#%% md\n"
    }
   }
  }
 ],
 "metadata": {
  "kernelspec": {
   "display_name": "Python 3",
   "language": "python",
   "name": "python3"
  },
  "language_info": {
   "codemirror_mode": {
    "name": "ipython",
    "version": 2
   },
   "file_extension": ".py",
   "mimetype": "text/x-python",
   "name": "python",
   "nbconvert_exporter": "python",
   "pygments_lexer": "ipython2",
   "version": "2.7.6"
  }
 },
 "nbformat": 4,
 "nbformat_minor": 0
}